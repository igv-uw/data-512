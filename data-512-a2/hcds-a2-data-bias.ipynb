{
 "cells": [
  {
   "cell_type": "markdown",
   "metadata": {},
   "source": [
    "# DATA 512 - A2"
   ]
  },
  {
   "cell_type": "markdown",
   "metadata": {},
   "source": [
    "___"
   ]
  },
  {
   "cell_type": "markdown",
   "metadata": {},
   "source": [
    "## Toxicity analysis"
   ]
  },
  {
   "cell_type": "markdown",
   "metadata": {},
   "source": [
    "Objective: Understand worker's demographics and characteristics and to look\n",
    "for possible under or over representative groups, which may lead to bias in \n",
    "labeling behavior, and subsequently, to any model trained on this data."
   ]
  },
  {
   "cell_type": "markdown",
   "metadata": {},
   "source": [
    "### Imports"
   ]
  },
  {
   "cell_type": "code",
   "execution_count": 1,
   "metadata": {
    "ExecuteTime": {
     "end_time": "2020-10-22T09:30:49.068118Z",
     "start_time": "2020-10-22T09:30:47.929117Z"
    }
   },
   "outputs": [],
   "source": [
    "import pandas as pd\n",
    "import matplotlib.pyplot as plt"
   ]
  },
  {
   "cell_type": "markdown",
   "metadata": {},
   "source": [
    "### Data shaping"
   ]
  },
  {
   "cell_type": "markdown",
   "metadata": {},
   "source": [
    "Loading the datasets."
   ]
  },
  {
   "cell_type": "code",
   "execution_count": 2,
   "metadata": {
    "ExecuteTime": {
     "end_time": "2020-10-22T09:30:51.317168Z",
     "start_time": "2020-10-22T09:30:49.075117Z"
    }
   },
   "outputs": [],
   "source": [
    "comments = pd.read_csv(\"./toxicity_datasets/toxicity_annotated_comments.tsv\", sep=\"\\t\")\n",
    "annotations = pd.read_csv(\"./toxicity_datasets/toxicity_annotations.tsv\", sep=\"\\t\")\n",
    "workers = pd.read_csv(\"./toxicity_datasets/toxicity_worker_demographics.tsv\", sep=\"\\t\")"
   ]
  },
  {
   "cell_type": "markdown",
   "metadata": {},
   "source": [
    "Combining the datasets. For this, first we are merging with a left join\n",
    "comments and annotations, and then merging that with worker's data."
   ]
  },
  {
   "cell_type": "code",
   "execution_count": 3,
   "metadata": {
    "ExecuteTime": {
     "end_time": "2020-10-22T09:30:53.340465Z",
     "start_time": "2020-10-22T09:30:51.321129Z"
    }
   },
   "outputs": [],
   "source": [
    "comments_annotated = pd.merge(comments, annotations, how=\"left\", on=\"rev_id\")\n",
    "comm_ann_worker = pd.merge(comments_annotated, workers, how=\"left\", on=\"worker_id\")"
   ]
  },
  {
   "cell_type": "markdown",
   "metadata": {},
   "source": [
    "### Worker demographics\n",
    "The idea of this section is to observe the general distribution of the\n",
    "worker's demographic data. This means that we are analyzing gender, age,\n",
    "language, and education level. The objective of this is to compare these\n",
    "values with external data, and see if they are similar or not."
   ]
  },
  {
   "cell_type": "markdown",
   "metadata": {},
   "source": [
    "The data shows that **65%** of the workers self-identify as male. This is not\n",
    "consistent with the general population (in the US, the percentage is \n",
    "**49%**\\*). This may lead to biased results if male workers labeling behavior\n",
    "is different from women's behavior (this is analyzed later).  \n",
    "It is also relevant to notice that there are really few workers who selected\n",
    "the category \"other\". This may cause an underdetection of toxic comments\n",
    "directed to minorities.  \n",
    "\n",
    "\\* Data from [2010 census](https://www.census.gov/prod/cen2010/briefs/c2010br-03.pdf).\n",
    "\n",
    "Procedure: Grouping by gender and counting repetitions."
   ]
  },
  {
   "cell_type": "code",
   "execution_count": 4,
   "metadata": {
    "ExecuteTime": {
     "end_time": "2020-10-22T09:30:53.549345Z",
     "start_time": "2020-10-22T09:30:53.342127Z"
    }
   },
   "outputs": [
    {
     "data": {
      "text/plain": [
       "[]"
      ]
     },
     "execution_count": 4,
     "metadata": {},
     "output_type": "execute_result"
    },
    {
     "data": {
      "image/png": "[encoded data removed]",
      "text/plain": [
       "<Figure size 432x288 with 1 Axes>"
      ]
     },
     "metadata": {
      "needs_background": "light"
     },
     "output_type": "display_data"
    }
   ],
   "source": [
    "workers.gender.value_counts().plot.bar()\n",
    "plt.title(\"Distribution of gender\")\n",
    "plt.plot()"
   ]
  },
  {
   "cell_type": "markdown",
   "metadata": {},
   "source": [
    "The data shows that **81%** of the workers are not native English speakers.\n",
    "This may difficult the analysis and conclusions drawn from the data, as it\n",
    "is possible that these workers may miss subtle nuances in the labeled \n",
    "comments.\n",
    "\n",
    "Procedure: Grouping by variable \"English is first language\" and counting\n",
    "repetitions."
   ]
  },
  {
   "cell_type": "code",
   "execution_count": 5,
   "metadata": {
    "ExecuteTime": {
     "end_time": "2020-10-22T09:30:53.741320Z",
     "start_time": "2020-10-22T09:30:53.556333Z"
    }
   },
   "outputs": [
    {
     "data": {
      "text/plain": [
       "[]"
      ]
     },
     "execution_count": 5,
     "metadata": {},
     "output_type": "execute_result"
    },
    {
     "data": {
      "image/png": "[encoded data removed]",
      "text/plain": [
       "<Figure size 432x288 with 1 Axes>"
      ]
     },
     "metadata": {
      "needs_background": "light"
     },
     "output_type": "display_data"
    }
   ],
   "source": [
    "workers.english_first_language.value_counts().plot.bar()\n",
    "plt.title(\"Distribution of workers with English as first language\")\n",
    "plt.plot()"
   ]
  },
  {
   "cell_type": "markdown",
   "metadata": {},
   "source": [
    "The age distribution data shows a marked presence of younger workers. In fact,\n",
    "workers with ages from 18 to 30 represent the **51%** of the total.  \n",
    "When comparing these values to global distributions of Internet users, we see\n",
    "that some groups are correctly represented and other are under or over\n",
    "represented. For example, users with over 60 years represent a **0.8%**, but\n",
    "online they represent around **7%**\\*. Differences like this one may yield to\n",
    "inaccurate models, as people's language tend to change from generation to\n",
    "generation.\n",
    "\n",
    "\\* Data from [Statista](https://www.statista.com/statistics/272365/age-distribution-of-internet-users-worldwide/).\n",
    "\n",
    "Procedure: Grouping by age group and counting repetitions."
   ]
  },
  {
   "cell_type": "code",
   "execution_count": 6,
   "metadata": {
    "ExecuteTime": {
     "end_time": "2020-10-22T09:30:53.947326Z",
     "start_time": "2020-10-22T09:30:53.744322Z"
    }
   },
   "outputs": [
    {
     "data": {
      "text/plain": [
       "[]"
      ]
     },
     "execution_count": 6,
     "metadata": {},
     "output_type": "execute_result"
    },
    {
     "data": {
      "image/png": "[encoded data removed]",
      "text/plain": [
       "<Figure size 432x288 with 1 Axes>"
      ]
     },
     "metadata": {
      "needs_background": "light"
     },
     "output_type": "display_data"
    }
   ],
   "source": [
    "workers.age_group.value_counts().plot.bar()\n",
    "plt.title(\"Age distribution of workers\")\n",
    "plt.plot()"
   ]
  },
  {
   "cell_type": "markdown",
   "metadata": {},
   "source": [
    "The data shows a disproportionated amount of workers with higher education\n",
    "(**99%**), when compared to the general population. In reality, these numbers\n",
    "are much lower (**45%**-**46%**\\*). This may also generate bias in the data as\n",
    "the type of toxic comments detected by people with higher levels of education\n",
    "may be different.\n",
    "\n",
    "\\* Data from [Wikipedia](https://en.wikipedia.org/wiki/Educational_attainment_in_the_United_States).\n",
    "\n",
    "Procedure: Grouping by education level and counting repetitions."
   ]
  },
  {
   "cell_type": "code",
   "execution_count": 7,
   "metadata": {
    "ExecuteTime": {
     "end_time": "2020-10-22T09:30:54.171347Z",
     "start_time": "2020-10-22T09:30:53.951322Z"
    }
   },
   "outputs": [
    {
     "data": {
      "text/plain": [
       "[]"
      ]
     },
     "execution_count": 7,
     "metadata": {},
     "output_type": "execute_result"
    },
    {
     "data": {
      "image/png": "[encoded data removed]",
      "text/plain": [
       "<Figure size 432x288 with 1 Axes>"
      ]
     },
     "metadata": {
      "needs_background": "light"
     },
     "output_type": "display_data"
    }
   ],
   "source": [
    "workers.education.value_counts().plot.bar()\n",
    "plt.title(\"Education level distribution of workers\")\n",
    "plt.plot()"
   ]
  },
  {
   "cell_type": "markdown",
   "metadata": {},
   "source": [
    "This analysis is relevant before using the dataset to train a model as a possible consequence of having a non-representative pool of workers may lead to a non-representative labeling behavior."
   ]
  },
  {
   "cell_type": "markdown",
   "metadata": {
    "ExecuteTime": {
     "end_time": "2020-10-16T02:07:09.103225Z",
     "start_time": "2020-10-16T02:07:09.062227Z"
    }
   },
   "source": [
    "### Relationships between worker demographics and labeling behavior"
   ]
  },
  {
   "cell_type": "markdown",
   "metadata": {},
   "source": [
    "The objective of this section is to analyze possible relationships between\n",
    "worker's characteristics and labeling behavior. This can help us identify\n",
    "potential sources of bias."
   ]
  },
  {
   "cell_type": "markdown",
   "metadata": {},
   "source": [
    "The data shows us that workers self-identified as males, tend to label\n",
    "comments as toxic less often than females.\n",
    "\n",
    "Procedure: Grouping by gender and calculating the mean value of toxicity."
   ]
  },
  {
   "cell_type": "code",
   "execution_count": 8,
   "metadata": {
    "ExecuteTime": {
     "end_time": "2020-10-22T09:30:54.809891Z",
     "start_time": "2020-10-22T09:30:54.176322Z"
    }
   },
   "outputs": [
    {
     "data": {
      "text/plain": [
       "[]"
      ]
     },
     "execution_count": 8,
     "metadata": {},
     "output_type": "execute_result"
    },
    {
     "data": {
      "image/png": "[encoded data removed]",
      "text/plain": [
       "<Figure size 432x288 with 1 Axes>"
      ]
     },
     "metadata": {
      "needs_background": "light"
     },
     "output_type": "display_data"
    }
   ],
   "source": [
    "comm_ann_worker.groupby(\"gender\").toxicity.mean().plot.bar()\n",
    "plt.title(\"Mean toxicity by worker gender\")\n",
    "plt.plot()"
   ]
  },
  {
   "cell_type": "markdown",
   "metadata": {},
   "source": [
    "This data also shows us that, for example, workers with holding a PhD also\n",
    "tend to label comments as toxic less often. Conversely, workers with bachelors\n",
    "degrees labeled comments as toxic more often. Conclusions from this have to be\n",
    "carefully analyzed as there may be other confounding factors (like age, for\n",
    "example).\n",
    "\n",
    "Procedure: Grouping by education and calculating the mean value of toxicity."
   ]
  },
  {
   "cell_type": "code",
   "execution_count": 9,
   "metadata": {
    "ExecuteTime": {
     "end_time": "2020-10-22T09:30:55.241102Z",
     "start_time": "2020-10-22T09:30:54.813819Z"
    }
   },
   "outputs": [
    {
     "data": {
      "text/plain": [
       "[]"
      ]
     },
     "execution_count": 9,
     "metadata": {},
     "output_type": "execute_result"
    },
    {
     "data": {
      "image/png": "[encoded data removed]",
      "text/plain": [
       "<Figure size 432x288 with 1 Axes>"
      ]
     },
     "metadata": {
      "needs_background": "light"
     },
     "output_type": "display_data"
    }
   ],
   "source": [
    "comm_ann_worker.groupby(\"education\").toxicity.mean().plot.bar()\n",
    "plt.title(\"Mean toxicity by worker education level\")\n",
    "plt.plot()"
   ]
  },
  {
   "cell_type": "markdown",
   "metadata": {},
   "source": [
    "The graph shows that younger workers tend to label comments as toxic less\n",
    "often.\n",
    "\n",
    "Procedure: Grouping by age group calculating the mean value of toxicity."
   ]
  },
  {
   "cell_type": "code",
   "execution_count": 10,
   "metadata": {
    "ExecuteTime": {
     "end_time": "2020-10-22T09:30:55.671160Z",
     "start_time": "2020-10-22T09:30:55.245102Z"
    }
   },
   "outputs": [
    {
     "data": {
      "text/plain": [
       "[]"
      ]
     },
     "execution_count": 10,
     "metadata": {},
     "output_type": "execute_result"
    },
    {
     "data": {
      "image/png": "[encoded data removed]",
      "text/plain": [
       "<Figure size 432x288 with 1 Axes>"
      ]
     },
     "metadata": {
      "needs_background": "light"
     },
     "output_type": "display_data"
    }
   ],
   "source": [
    "comm_ann_worker.groupby(\"age_group\").toxicity.mean().plot.bar()\n",
    "plt.title(\"Mean toxicity by worker age group\")\n",
    "plt.plot()"
   ]
  },
  {
   "cell_type": "markdown",
   "metadata": {},
   "source": [
    "A potential consequence of this situation is that if a model is trained on\n",
    "this data, it may carry the biases that the workers already had."
   ]
  },
  {
   "cell_type": "markdown",
   "metadata": {},
   "source": [
    "___"
   ]
  },
  {
   "cell_type": "markdown",
   "metadata": {},
   "source": [
    "## Aggression analysis"
   ]
  },
  {
   "cell_type": "markdown",
   "metadata": {},
   "source": [
    "Objective: Understand worker's characteristics and to look for possible sources\n",
    "of bias in labeling behavior. This is extremely important if this data is used\n",
    "to train a model, because these biases may be transfered to it."
   ]
  },
  {
   "cell_type": "markdown",
   "metadata": {},
   "source": [
    "### Imports"
   ]
  },
  {
   "cell_type": "code",
   "execution_count": 11,
   "metadata": {
    "ExecuteTime": {
     "end_time": "2020-10-22T09:30:57.071576Z",
     "start_time": "2020-10-22T09:30:55.676105Z"
    }
   },
   "outputs": [],
   "source": [
    "import pandas as pd\n",
    "import matplotlib.pyplot as plt\n",
    "\n",
    "from patsy import dmatrices\n",
    "import statsmodels.api as sm"
   ]
  },
  {
   "cell_type": "code",
   "execution_count": 12,
   "metadata": {
    "ExecuteTime": {
     "end_time": "2020-10-22T09:30:58.927351Z",
     "start_time": "2020-10-22T09:30:57.071576Z"
    }
   },
   "outputs": [],
   "source": [
    "comments = pd.read_csv(\"./agression_datasets/aggression_annotated_comments.tsv\", sep=\"\\t\")\n",
    "annotations = pd.read_csv(\"./agression_datasets/aggression_annotations.tsv\", sep=\"\\t\")\n",
    "workers = pd.read_csv(\"./agression_datasets/aggression_worker_demographics.tsv\", sep=\"\\t\")"
   ]
  },
  {
   "cell_type": "markdown",
   "metadata": {},
   "source": [
    "Combining the datasets. For this, first we are merging with a left join\n",
    "comments and annotations, and then merging that with worker's data."
   ]
  },
  {
   "cell_type": "code",
   "execution_count": 13,
   "metadata": {
    "ExecuteTime": {
     "end_time": "2020-10-22T09:31:00.371473Z",
     "start_time": "2020-10-22T09:30:58.929337Z"
    }
   },
   "outputs": [],
   "source": [
    "comments_annotated = pd.merge(comments, annotations, how=\"left\", on=\"rev_id\")\n",
    "comm_ann_worker = pd.merge(comments_annotated, workers, how=\"left\", on=\"worker_id\")"
   ]
  },
  {
   "cell_type": "markdown",
   "metadata": {},
   "source": [
    "### Workers characteristics and their impact on labeling"
   ]
  },
  {
   "cell_type": "markdown",
   "metadata": {},
   "source": [
    "The data shows that workers who self-identify as male tend to label comments\n",
    "as aggressive less often than those who self-identify las female\n",
    "(**17%** vs **19%**).\n",
    "\n",
    "Procedure: Grouping by gender and calculating the mean value of aggression."
   ]
  },
  {
   "cell_type": "code",
   "execution_count": 14,
   "metadata": {
    "ExecuteTime": {
     "end_time": "2020-10-22T09:31:01.009475Z",
     "start_time": "2020-10-22T09:31:00.376478Z"
    }
   },
   "outputs": [
    {
     "data": {
      "text/plain": [
       "[]"
      ]
     },
     "execution_count": 14,
     "metadata": {},
     "output_type": "execute_result"
    },
    {
     "data": {
      "image/png": "[encoded data removed]",
      "text/plain": [
       "<Figure size 432x288 with 1 Axes>"
      ]
     },
     "metadata": {
      "needs_background": "light"
     },
     "output_type": "display_data"
    }
   ],
   "source": [
    "comm_ann_worker.groupby(\"gender\").aggression.mean().plot.bar()\n",
    "plt.title(\"Percentage labeled as aggression by worker gender\")\n",
    "plt.plot()"
   ]
  },
  {
   "cell_type": "markdown",
   "metadata": {},
   "source": [
    "The data shows that workers with PhDs tend to label comments as aggressive\n",
    "more often than other workers.\n",
    "\n",
    "Procedure: Grouping by education and calculating the mean value of aggression."
   ]
  },
  {
   "cell_type": "code",
   "execution_count": 15,
   "metadata": {
    "ExecuteTime": {
     "end_time": "2020-10-22T09:31:01.488479Z",
     "start_time": "2020-10-22T09:31:01.013485Z"
    }
   },
   "outputs": [
    {
     "data": {
      "text/plain": [
       "[]"
      ]
     },
     "execution_count": 15,
     "metadata": {},
     "output_type": "execute_result"
    },
    {
     "data": {
      "image/png": "[encoded data removed]",
      "text/plain": [
       "<Figure size 432x288 with 1 Axes>"
      ]
     },
     "metadata": {
      "needs_background": "light"
     },
     "output_type": "display_data"
    }
   ],
   "source": [
    "comm_ann_worker.groupby(\"education\").aggression.mean().plot.bar()\n",
    "plt.title(\"Percentage labeled as aggression by worker education level\")\n",
    "plt.plot()"
   ]
  },
  {
   "cell_type": "markdown",
   "metadata": {},
   "source": [
    "The graph shows that younger workers tend to label comments as \n",
    "aggressive less often.\n",
    "\n",
    "Procedure: Grouping by age group calculating the mean value of aggression."
   ]
  },
  {
   "cell_type": "code",
   "execution_count": 16,
   "metadata": {
    "ExecuteTime": {
     "end_time": "2020-10-22T09:31:01.854497Z",
     "start_time": "2020-10-22T09:31:01.494477Z"
    }
   },
   "outputs": [
    {
     "data": {
      "text/plain": [
       "[]"
      ]
     },
     "execution_count": 16,
     "metadata": {},
     "output_type": "execute_result"
    },
    {
     "data": {
      "image/png": "[encoded data removed]",
      "text/plain": [
       "<Figure size 432x288 with 1 Axes>"
      ]
     },
     "metadata": {
      "needs_background": "light"
     },
     "output_type": "display_data"
    }
   ],
   "source": [
    "comm_ann_worker.groupby(\"age_group\").aggression.mean().plot.bar()\n",
    "plt.title(\"Percentage labeled as aggression by worker age group\")\n",
    "plt.plot()"
   ]
  },
  {
   "cell_type": "markdown",
   "metadata": {},
   "source": [
    "To see if the differences shown are statistically significant we ran a\n",
    "Logistic Regression including all the variables. The data shows that most of\n",
    "the categories for each variable are statistically significant ($\\alpha=5\\%$) (the only\n",
    "exceptions are categories for PhDs, masters and \"none\" education). \n",
    "\n",
    "A potential cause for this, is that people with different backgrounds, that\n",
    "pertain to different generations, or that self-identify with some gender, have\n",
    "(possibly on average) different life experiences and view language and human\n",
    "relationships in different ways. This directly impacts on how they perceive\n",
    "aggressiveness.  \n",
    "A consequence of this is that if the pool of workers is not representative of\n",
    "the general population, the labeling behavior is (possibly) also not \n",
    "representative of that population.\n",
    "\n",
    "Procedure: Generate matrix versions of the dataset, use statsmodels to load\n",
    "the Logistic Regression model, and finally, obtain a summary."
   ]
  },
  {
   "cell_type": "code",
   "execution_count": 17,
   "metadata": {
    "ExecuteTime": {
     "end_time": "2020-10-22T09:31:27.546839Z",
     "start_time": "2020-10-22T09:31:01.859477Z"
    }
   },
   "outputs": [
    {
     "name": "stdout",
     "output_type": "stream",
     "text": [
      "Optimization terminated successfully.\n",
      "         Current function value: 0.475030\n",
      "         Iterations 6\n"
     ]
    },
    {
     "data": {
      "text/html": [
       "<table class=\"simpletable\">\n",
       "<caption>Logit Regression Results</caption>\n",
       "<tr>\n",
       "  <th>Dep. Variable:</th>      <td>aggression</td>    <th>  No. Observations:  </th>   <td>843507</td>   \n",
       "</tr>\n",
       "<tr>\n",
       "  <th>Model:</th>                 <td>Logit</td>      <th>  Df Residuals:      </th>   <td>843493</td>   \n",
       "</tr>\n",
       "<tr>\n",
       "  <th>Method:</th>                 <td>MLE</td>       <th>  Df Model:          </th>   <td>    13</td>   \n",
       "</tr>\n",
       "<tr>\n",
       "  <th>Date:</th>            <td>Thu, 22 Oct 2020</td> <th>  Pseudo R-squ.:     </th>  <td>0.004153</td>  \n",
       "</tr>\n",
       "<tr>\n",
       "  <th>Time:</th>                <td>02:31:27</td>     <th>  Log-Likelihood:    </th> <td>-4.0069e+05</td>\n",
       "</tr>\n",
       "<tr>\n",
       "  <th>converged:</th>             <td>True</td>       <th>  LL-Null:           </th> <td>-4.0236e+05</td>\n",
       "</tr>\n",
       "<tr>\n",
       "  <th>Covariance Type:</th>     <td>nonrobust</td>    <th>  LLR p-value:       </th>   <td> 0.000</td>   \n",
       "</tr>\n",
       "</table>\n",
       "<table class=\"simpletable\">\n",
       "<tr>\n",
       "              <td></td>                 <th>coef</th>     <th>std err</th>      <th>z</th>      <th>P>|z|</th>  <th>[0.025</th>    <th>0.975]</th>  \n",
       "</tr>\n",
       "<tr>\n",
       "  <th>Intercept</th>                 <td>   -1.5534</td> <td>    0.006</td> <td> -240.524</td> <td> 0.000</td> <td>   -1.566</td> <td>   -1.541</td>\n",
       "</tr>\n",
       "<tr>\n",
       "  <th>gender[T.male]</th>            <td>   -0.1171</td> <td>    0.006</td> <td>  -19.986</td> <td> 0.000</td> <td>   -0.129</td> <td>   -0.106</td>\n",
       "</tr>\n",
       "<tr>\n",
       "  <th>gender[T.other]</th>           <td>    1.3357</td> <td>    0.221</td> <td>    6.046</td> <td> 0.000</td> <td>    0.903</td> <td>    1.769</td>\n",
       "</tr>\n",
       "<tr>\n",
       "  <th>age_group[T.30-45]</th>        <td>    0.1502</td> <td>    0.006</td> <td>   24.711</td> <td> 0.000</td> <td>    0.138</td> <td>    0.162</td>\n",
       "</tr>\n",
       "<tr>\n",
       "  <th>age_group[T.45-60]</th>        <td>    0.3990</td> <td>    0.010</td> <td>   41.619</td> <td> 0.000</td> <td>    0.380</td> <td>    0.418</td>\n",
       "</tr>\n",
       "<tr>\n",
       "  <th>age_group[T.Over 60]</th>      <td>    0.3953</td> <td>    0.027</td> <td>   14.566</td> <td> 0.000</td> <td>    0.342</td> <td>    0.449</td>\n",
       "</tr>\n",
       "<tr>\n",
       "  <th>age_group[T.Under 18]</th>     <td>   -0.2838</td> <td>    0.031</td> <td>   -9.191</td> <td> 0.000</td> <td>   -0.344</td> <td>   -0.223</td>\n",
       "</tr>\n",
       "<tr>\n",
       "  <th>education[T.doctorate]</th>    <td>    0.0474</td> <td>    0.029</td> <td>    1.623</td> <td> 0.105</td> <td>   -0.010</td> <td>    0.105</td>\n",
       "</tr>\n",
       "<tr>\n",
       "  <th>education[T.hs]</th>           <td>    0.0145</td> <td>    0.007</td> <td>    2.072</td> <td> 0.038</td> <td>    0.001</td> <td>    0.028</td>\n",
       "</tr>\n",
       "<tr>\n",
       "  <th>education[T.masters]</th>      <td>   -0.0032</td> <td>    0.008</td> <td>   -0.399</td> <td> 0.690</td> <td>   -0.019</td> <td>    0.013</td>\n",
       "</tr>\n",
       "<tr>\n",
       "  <th>education[T.none]</th>         <td>   -0.7160</td> <td>    0.369</td> <td>   -1.938</td> <td> 0.053</td> <td>   -1.440</td> <td>    0.008</td>\n",
       "</tr>\n",
       "<tr>\n",
       "  <th>education[T.professional]</th> <td>    0.0478</td> <td>    0.010</td> <td>    4.976</td> <td> 0.000</td> <td>    0.029</td> <td>    0.067</td>\n",
       "</tr>\n",
       "<tr>\n",
       "  <th>education[T.some]</th>         <td>   -0.0862</td> <td>    0.021</td> <td>   -4.051</td> <td> 0.000</td> <td>   -0.128</td> <td>   -0.044</td>\n",
       "</tr>\n",
       "<tr>\n",
       "  <th>english_first_language</th>    <td>    0.1557</td> <td>    0.008</td> <td>   19.325</td> <td> 0.000</td> <td>    0.140</td> <td>    0.171</td>\n",
       "</tr>\n",
       "</table>"
      ],
      "text/plain": [
       "<class 'statsmodels.iolib.summary.Summary'>\n",
       "\"\"\"\n",
       "                           Logit Regression Results                           \n",
       "==============================================================================\n",
       "Dep. Variable:             aggression   No. Observations:               843507\n",
       "Model:                          Logit   Df Residuals:                   843493\n",
       "Method:                           MLE   Df Model:                           13\n",
       "Date:                Thu, 22 Oct 2020   Pseudo R-squ.:                0.004153\n",
       "Time:                        02:31:27   Log-Likelihood:            -4.0069e+05\n",
       "converged:                       True   LL-Null:                   -4.0236e+05\n",
       "Covariance Type:            nonrobust   LLR p-value:                     0.000\n",
       "=============================================================================================\n",
       "                                coef    std err          z      P>|z|      [0.025      0.975]\n",
       "---------------------------------------------------------------------------------------------\n",
       "Intercept                    -1.5534      0.006   -240.524      0.000      -1.566      -1.541\n",
       "gender[T.male]               -0.1171      0.006    -19.986      0.000      -0.129      -0.106\n",
       "gender[T.other]               1.3357      0.221      6.046      0.000       0.903       1.769\n",
       "age_group[T.30-45]            0.1502      0.006     24.711      0.000       0.138       0.162\n",
       "age_group[T.45-60]            0.3990      0.010     41.619      0.000       0.380       0.418\n",
       "age_group[T.Over 60]          0.3953      0.027     14.566      0.000       0.342       0.449\n",
       "age_group[T.Under 18]        -0.2838      0.031     -9.191      0.000      -0.344      -0.223\n",
       "education[T.doctorate]        0.0474      0.029      1.623      0.105      -0.010       0.105\n",
       "education[T.hs]               0.0145      0.007      2.072      0.038       0.001       0.028\n",
       "education[T.masters]         -0.0032      0.008     -0.399      0.690      -0.019       0.013\n",
       "education[T.none]            -0.7160      0.369     -1.938      0.053      -1.440       0.008\n",
       "education[T.professional]     0.0478      0.010      4.976      0.000       0.029       0.067\n",
       "education[T.some]            -0.0862      0.021     -4.051      0.000      -0.128      -0.044\n",
       "english_first_language        0.1557      0.008     19.325      0.000       0.140       0.171\n",
       "=============================================================================================\n",
       "\"\"\""
      ]
     },
     "execution_count": 17,
     "metadata": {},
     "output_type": "execute_result"
    }
   ],
   "source": [
    "y, X = dmatrices('aggression ~ gender + english_first_language + age_group + education', comm_ann_worker, return_type = 'dataframe')\n",
    "\n",
    "logit = sm.Logit(y, X)\n",
    "res = logit.fit()\n",
    "\n",
    "res.summary()"
   ]
  },
  {
   "cell_type": "markdown",
   "metadata": {},
   "source": [
    "___"
   ]
  },
  {
   "cell_type": "markdown",
   "metadata": {},
   "source": [
    "## Further implications"
   ]
  },
  {
   "cell_type": "markdown",
   "metadata": {
    "ExecuteTime": {
     "end_time": "2020-10-21T07:27:35.692521Z",
     "start_time": "2020-10-21T07:27:35.673528Z"
    }
   },
   "source": [
    "1. Which, if any, of these demo applications would you expect the Perspective API—or any model trained on the Wikipedia Talk corpus—to perform well in? Why?  \n",
    ">*I would expect that a model trained on the Wikipedia Talk corpus should perform well in the WikiDetox demo (or at least it should perform better than the other demos). The reason behind that is that the model was already trained in data similar to what it is supposed to see in the future. This means that aspects like: the context of the comments, the types of users, the vocabulary used, etc, should be the extremely similar. This always plays in favor of prediction models as it is (normally) very difficult to extrapolate knowledge from one context to another.*\n",
    "\n",
    "\n",
    "2. Which, if any, of these demo applications would you expect the Perspective API to perform poorly in? Why?\n",
    ">*I would expect that the demo **Behave!** would perform poorly, because it claims to work on widely different sites (it mentions YouTube, Reddit and many other forums). Since the language (and also the \"type of aggressiveness/toxicity\") used in different sites normally changes, it would be really difficult for a model to perform well in all those contexts.*\n",
    "\n",
    "\n",
    "3. What are some kinds of hostile speech that would be difficult to accurately detect using the approach used to train the Perspective API models? \n",
    ">*I think it would be hard for the Perspective API to detect sarcastic comments, as in order to understand the true meaning of these types of comments, we need an extremely deep understanding of how language works and the context of a conversation.  \n",
    "Another type of comment that would be difficult to detect would be phrases that include newly-created derogatory terms (which the model never saw in training) or terms that have a dual-meaning (a \"normal\" meaning and a \"hostile\" meaning).*"
   ]
  }
 ],
 "metadata": {
  "kernelspec": {
   "display_name": "Python 3",
   "language": "python",
   "name": "python3"
  },
  "language_info": {
   "codemirror_mode": {
    "name": "ipython",
    "version": 3
   },
   "file_extension": ".py",
   "mimetype": "text/x-python",
   "name": "python",
   "nbconvert_exporter": "python",
   "pygments_lexer": "ipython3",
   "version": "3.7.6"
  }
 },
 "nbformat": 4,
 "nbformat_minor": 4
}
