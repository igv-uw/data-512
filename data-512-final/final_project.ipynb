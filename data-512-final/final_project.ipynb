{
 "cells": [
  {
   "cell_type": "markdown",
   "metadata": {},
   "source": [
    "# Problem statement and motivation\n",
    "In the city of Santiago (Chile), nearly 30% of the population uses public transport on a daily basis. While the quality of the service is generally good when compared to other Latin American countries, it is still far from perfect (it has been ranked 1st in Latin America, but 30th out of 100 cities around the world [1]). Additionally, when adjusting its cost by the median wage, it is one of the most expensive public transports in the world, ranking 9th globally and surpassing cities like London and New York [2].  \n",
    "It is commonly attributed that people with lower incomes use this means of transport disproportionally more than other groups, however, it is also said that in the areas where these habitants live, the public transport has a worse coverage and a lower frequency of service. I am particularly interested in verifying these claims and to analyze which communities are being left out by public transport. The project would also explore deeper into the relationships between demographics, income distribution, segregation, and the quality of public transport.\n",
    "As an additional objective, I also want to generate map visualizations with the data so that these relationships are easily understood.  \n",
    "# Data\n",
    "For the public transport side of the project, I will use the files that the government publishes and updates [3]. The files are in GTFS format (which stands for General Transit Feed Specification) and contain all the necessary information to describe a public transport system (in fact, this is the format used by agencies and governments to communicate with Google Maps and other map providers). Each GTFS file is comprised of several text files, which, at minimum, contain information about agencies (agencies.txt), stops (stops.txt), routes (routes.txt), trips (trips.txt), and the times the vehicles pass through each stop (stop_times.txt).  \n",
    "With all this information, I will be able to characterize zones of the city where there is a high or low density of stops and also where is a high or low frequency of service.\n",
    "It should be noted that this data is shared under Creative Commons Attribution [4].\n",
    "As for ethical concerns, there should not be any, as the data is mainly about government infrastructure.\n",
    "As for the demographic and economic data, I will the government-run survey “Encuesta de Caracterización Socioeconómica Nacional” (CASEN). This national survey is conducted every two years and includes all sorts of socioeconomic variables and descriptions [5].  \n",
    "As for ethical concerns, an issue could arise if the data is, for example, not well anonymized. However, this should be relatively well covered by the government agency that collects the data (but I still need more information to assess this point).\n",
    " \n",
    "# Unknowns and dependencies\n",
    "There are a couple of technical challenges for this project, the main is having the skills to read through GTFS data correctly and being able to compute the geographical metrics accurately (for example, for each point, calculating the distance to the closest bus stop). One aspect that is outside my control is the quality (and correctness) of the GTFS data.  \n",
    "[1] Public transport study (https://www.elmostrador.cl/noticias/pais/2017/02/10/transantiago-no-es-el-mejor-del-mundo-pero-tampoco-el-peor-saca-la-puntuacion-mas-elevada-en-america-latina/)  \n",
    "[2] Cost of public transport (https://www.emol.com/noticias/Nacional/2019/10/18/964843/Chile-9no-mas-caro-transporte.html)  \n",
    "[3] Santiago GTFS (http://datos.gob.cl/dataset/33245)  \n",
    "[4] Santiago GTFC data license (http://datos.gob.cl/dataset/33245/resource/02a67a50-51f0-4529-abb4-3bca38d894f3)  \n",
    "[5] Encuesta de Caracterización Socioeconómica Nacional (http://observatorio.ministeriodesarrollosocial.gob.cl/casen/basededatos_historico.php)\n",
    "\n"
   ]
  }
 ],
 "metadata": {
  "kernelspec": {
   "display_name": "Python 3",
   "language": "python",
   "name": "python3"
  },
  "language_info": {
   "codemirror_mode": {
    "name": "ipython",
    "version": 3
   },
   "file_extension": ".py",
   "mimetype": "text/x-python",
   "name": "python",
   "nbconvert_exporter": "python",
   "pygments_lexer": "ipython3",
   "version": "3.7.6"
  }
 },
 "nbformat": 4,
 "nbformat_minor": 4
}
