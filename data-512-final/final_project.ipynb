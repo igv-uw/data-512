{
 "cells": [
  {
   "cell_type": "markdown",
   "metadata": {},
   "source": [
    "# Preliminary proposal\n",
    "    \n",
    "# Problem statement and motivation\n",
    "In the city of Santiago (Chile), nearly 30% of the population uses public transport on a daily basis. While the quality of the service is generally good when compared to other Latin American countries, it is still far from perfect ([it has been ranked 1st in Latin America, but 30th out of 100 cities around the world](https://www.elmostrador.cl/noticias/pais/2017/02/10/transantiago-no-es-el-mejor-del-mundo-pero-tampoco-el-peor-saca-la-puntuacion-mas-elevada-en-america-latina/)). Additionally, when adjusting its cost by the median wage, it is one of the most expensive public transports in the world, [ranking 9th globally and surpassing cities like London and New York](https://www.emol.com/noticias/Nacional/2019/10/18/964843/Chile-9no-mas-caro-transporte.html).  \n",
    "It is commonly attributed that people with lower incomes use this means of transport disproportionally more than other groups, however, it is also said that in the areas where these habitants live, the public transport has a worse coverage and a lower frequency of service. I am particularly interested in verifying these claims and to analyze which communities are being left out by public transport. The project would also explore deeper into the relationships between demographics, income distribution, segregation, and the quality of public transport.\n",
    "As an additional objective, I also want to generate map visualizations with the data so that these relationships are easily understood.  \n",
    "# Data\n",
    "For the public transport side of the project, I will use the [files that the government publishes and updates](http://datos.gob.cl/dataset/33245). The files are in GTFS format (which stands for General Transit Feed Specification) and contain all the necessary information to describe a public transport system (in fact, this is the format used by agencies and governments to communicate with Google Maps and other map providers). Each GTFS file is comprised of several text files, which, at minimum, contain information about agencies (agencies.txt), stops (stops.txt), routes (routes.txt), trips (trips.txt), and the times the vehicles pass through each stop (stop_times.txt).  \n",
    "With all this information, I will be able to characterize zones of the city where there is a high or low density of stops and also where is a high or low frequency of service.\n",
    "It should be noted that this data [is shared under Creative Commons Attribution](http://datos.gob.cl/dataset/33245/resource/02a67a50-51f0-4529-abb4-3bca38d894f3).\n",
    "As for ethical concerns, there should not be any, as the data is mainly about government infrastructure.\n",
    "As for the demographic and economic data, I will the government-run survey [“Encuesta de Caracterización Socioeconómica Nacional” (CASEN)](http://observatorio.ministeriodesarrollosocial.gob.cl/casen/basededatos_historico.php). This national survey is conducted every two years and includes all sorts of socioeconomic variables and descriptions.  \n",
    "As for ethical concerns, an issue could arise if the data is, for example, not well anonymized. However, this should be relatively well covered by the government agency that collects the data (but I still need more information to assess this point).\n",
    " \n",
    "# Unknowns and dependencies\n",
    "There are a couple of technical challenges for this project, the main is having the skills to read through GTFS data correctly and being able to compute the geographical metrics accurately (for example, for each point, calculating the distance to the closest bus stop). One aspect that is outside my control is the quality (and correctness) of the GTFS data.  \n",
    "[1] Public transport study (https://www.elmostrador.cl/noticias/pais/2017/02/10/transantiago-no-es-el-mejor-del-mundo-pero-tampoco-el-peor-saca-la-puntuacion-mas-elevada-en-america-latina/)  \n",
    "[2] Cost of public transport (https://www.emol.com/noticias/Nacional/2019/10/18/964843/Chile-9no-mas-caro-transporte.html)  \n",
    "[3] Santiago GTFS (http://datos.gob.cl/dataset/33245)  \n",
    "[4] Santiago GTFC data license (http://datos.gob.cl/dataset/33245/resource/02a67a50-51f0-4529-abb4-3bca38d894f3)  \n",
    "[5] Encuesta de Caracterización Socioeconómica Nacional (http://observatorio.ministeriodesarrollosocial.gob.cl/casen/basededatos_historico.php)\n",
    "\n"
   ]
  },
  {
   "cell_type": "markdown",
   "metadata": {},
   "source": [
    "___"
   ]
  },
  {
   "cell_type": "markdown",
   "metadata": {},
   "source": [
    "# New sections for proposal\n",
    "\n",
    "# Research question\n",
    "### Is the quality of the public transit service correlated with the average wealth of the people that live in the area?\n",
    "\n",
    "# Hypothesis\n",
    "### Poorer areas of the city have fewer bus stops around (on average) and the quality (measured by the average frequency of the buses) is worse.\n",
    "\n",
    "# Background work\n",
    "There are some previous studies that cover the topic of accessibility to public transport and equity in Santiago. What those studies have found is that some counties (\"comunas\") with low average income have less accessibility to bus stops, and in some cases, the physical stops and the paths people need to walk to get to those stops, are also worse.  \n",
    "I hope to conduct a smaller version of this, but to include in the analysis the frequency of the buses.\n",
    "\n",
    "Related work:  \n",
    "[1] Accessibility and equity: An approach for wider transport project assessment in Chile (https://www.sciencedirect.com/science/article/abs/pii/S0739885915301025?via%3Dihub)  \n",
    "[2] The Role of Accessibility to Public Transport and Quality of Walking Environment on Urban Equity: The Case of Santiago de Chile (https://journals-sagepub-com.offcampus.lib.washington.edu/doi/full/10.1177/0361198118782036)  \n",
    "[3] A short article about the topic (http://www.infraestructurapublica.cl/estudio-revelo-las-dos-comunas-capitalinas-con-peores-indicadores-de-acceso-al-transporte/)\n",
    "\n",
    "# Methodology\n",
    "I plan on creating a fine grid across the whole city and calculate, for each point, the distance to the nearest bus stop (or another indicator that can incorporate, for example, the average distance to the nearest 5 stops), and what is the average bus frequency I will possibly also weight this by population distribution.  \n",
    "Using the national survey listed above I plan to incorporate demographic and wealth variables. The idea behind this is to map each possible point in the city and see if there is any relationship between wealth and quality of service (in terms of distance and frequency).  \n",
    "In practical terms, I plan on using the libraries: **geopandas**, **pysal**, **pandas**, **statsmodels**, and **folium**.\n",
    "\n",
    "# Data [UPDATE from last deliverable]\n",
    "Shapefiles of regions and counties of Chile (https://www.bcn.cl/siit/mapas_vectoriales)"
   ]
  }
 ],
 "metadata": {
  "kernelspec": {
   "display_name": "Python 3",
   "language": "python",
   "name": "python3"
  },
  "language_info": {
   "codemirror_mode": {
    "name": "ipython",
    "version": 3
   },
   "file_extension": ".py",
   "mimetype": "text/x-python",
   "name": "python",
   "nbconvert_exporter": "python",
   "pygments_lexer": "ipython3",
   "version": "3.7.6"
  }
 },
 "nbformat": 4,
 "nbformat_minor": 4
}
